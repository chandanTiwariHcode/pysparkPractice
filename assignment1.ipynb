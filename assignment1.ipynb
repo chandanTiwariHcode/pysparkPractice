{
 "cells": [
  {
   "cell_type": "code",
   "execution_count": 1,
   "metadata": {},
   "outputs": [
    {
     "name": "stderr",
     "output_type": "stream",
     "text": [
      "24/11/13 11:00:28 WARN Utils: Your hostname, hcode-ThinkPad-E14-Gen-3 resolves to a loopback address: 127.0.1.1; using 192.168.1.41 instead (on interface wlp3s0)\n",
      "24/11/13 11:00:28 WARN Utils: Set SPARK_LOCAL_IP if you need to bind to another address\n",
      "Setting default log level to \"WARN\".\n",
      "To adjust logging level use sc.setLogLevel(newLevel). For SparkR, use setLogLevel(newLevel).\n",
      "24/11/13 11:00:29 WARN NativeCodeLoader: Unable to load native-hadoop library for your platform... using builtin-java classes where applicable\n",
      "24/11/13 11:00:29 WARN Utils: Service 'SparkUI' could not bind on port 4040. Attempting port 4041.\n"
     ]
    }
   ],
   "source": [
    "from pyspark.sql import SparkSession\n",
    "spark = SparkSession.builder.getOrCreate()"
   ]
  },
  {
   "cell_type": "code",
   "execution_count": 10,
   "metadata": {},
   "outputs": [],
   "source": [
    "df = spark.read.csv(\"hw_200.csv\", inferSchema=True, header=True)"
   ]
  },
  {
   "cell_type": "code",
   "execution_count": 11,
   "metadata": {},
   "outputs": [
    {
     "name": "stdout",
     "output_type": "stream",
     "text": [
      "root\n",
      " |-- Index: integer (nullable = true)\n",
      " |-- Height(Inches): double (nullable = true)\n",
      " |-- Weight(Pounds): string (nullable = true)\n",
      "\n"
     ]
    }
   ],
   "source": [
    "# Read the CSV file into a PySpark DataFrame and display its schema.\n",
    "df.printSchema()"
   ]
  },
  {
   "cell_type": "code",
   "execution_count": 28,
   "metadata": {},
   "outputs": [],
   "source": [
    "from pyspark.sql.functions import col, when, trim, udf\n",
    "from pyspark.sql.types import DoubleType"
   ]
  },
  {
   "cell_type": "code",
   "execution_count": 19,
   "metadata": {},
   "outputs": [],
   "source": [
    "df_ = df.withColumn(\n",
    "    \"interpretedHeight\", when(trim(col(\"Height(Inches)\")).rlike(\"\\d+\"), trim(col(\"Height(Inches)\")).cast(\"double\")).otherwise(None)\n",
    ").withColumn(\n",
    "    \"interpretedWeight\", when(trim(col(\"Weight(Pounds)\")).rlike(\"\\d+\"), trim(col(\"Weight(Pounds)\")).cast(\"double\")).otherwise(None)\n",
    ")"
   ]
  },
  {
   "cell_type": "code",
   "execution_count": 21,
   "metadata": {},
   "outputs": [
    {
     "name": "stdout",
     "output_type": "stream",
     "text": [
      "avg height : 68.22174999999999\n",
      "avg_weight : 127.39107142857151\n"
     ]
    }
   ],
   "source": [
    "# Explore the data: Calculate basic statistics like average height and weight.\n",
    "avg_height, avg_weight = df_.select([\"interpretedHeight\", \"interpretedWeight\"]).groupBy().avg().collect()[0] # column names \n",
    "print(f'''avg height : {avg_height}\n",
    "avg_weight : {avg_weight}''')"
   ]
  },
  {
   "cell_type": "code",
   "execution_count": 23,
   "metadata": {},
   "outputs": [
    {
     "name": "stdout",
     "output_type": "stream",
     "text": [
      "+-----+--------------+--------------+-----------------+-----------------+\n",
      "|Index|Height(Inches)|Weight(Pounds)|interpretedHeight|interpretedWeight|\n",
      "+-----+--------------+--------------+-----------------+-----------------+\n",
      "|    2|         71.52|        136.49|            71.52|           136.49|\n",
      "|    3|          69.4|        153.03|             69.4|           153.03|\n",
      "|    4|         68.22|        142.34|            68.22|           142.34|\n",
      "|    5|         67.79|        144.30|            67.79|            144.3|\n",
      "|    7|          69.8|        141.49|             69.8|           141.49|\n",
      "|    8|         70.01|        136.46|            70.01|           136.46|\n",
      "|   11|         66.49|        127.45|            66.49|           127.45|\n",
      "|   16|         71.09|        140.00|            71.09|            140.0|\n",
      "|   17|         66.46|        129.50|            66.46|            129.5|\n",
      "|   18|         68.65|        142.97|            68.65|           142.97|\n",
      "|   19|         71.23|        137.90|            71.23|            137.9|\n",
      "|   21|         67.83|        141.28|            67.83|           141.28|\n",
      "|   22|         68.88|        143.54|            68.88|           143.54|\n",
      "|   24|         68.42|        129.50|            68.42|            129.5|\n",
      "|   25|         67.63|        141.85|            67.63|           141.85|\n",
      "|   26|         67.21|        129.72|            67.21|           129.72|\n",
      "|   27|         70.84|        142.42|            70.84|           142.42|\n",
      "|   28|         67.49|        131.55|            67.49|           131.55|\n",
      "|   34|          70.6|        136.22|             70.6|           136.22|\n",
      "|   35|          71.8|        140.10|             71.8|            140.1|\n",
      "+-----+--------------+--------------+-----------------+-----------------+\n",
      "only showing top 20 rows\n",
      "\n"
     ]
    }
   ],
   "source": [
    "# Filter the DataFrame to include only rows where the weight is above the average weight.\n",
    "df_[df_[\"interpretedWeight\"] > avg_weight].show()"
   ]
  },
  {
   "cell_type": "code",
   "execution_count": 39,
   "metadata": {},
   "outputs": [],
   "source": [
    "# bmiCalculate = udf(lambda weight, height: (weight / 2.205) / (height * 0.0254) ** 2, DoubleType())\n",
    "bmiCalculate = udf(lambda weight, height: ((weight / 2.205) / (height * 0.0254) ** 2) if (weight and height) else None, DoubleType())"
   ]
  },
  {
   "cell_type": "code",
   "execution_count": 40,
   "metadata": {},
   "outputs": [
    {
     "name": "stdout",
     "output_type": "stream",
     "text": [
      "+-----+--------------+--------------+-----------------+-----------------+------------------+\n",
      "|Index|Height(Inches)|Weight(Pounds)|interpretedHeight|interpretedWeight|               BMI|\n",
      "+-----+--------------+--------------+-----------------+-----------------+------------------+\n",
      "|    1|         65.78|        112.99|            65.78|           112.99|18.355923679274014|\n",
      "|    2|         71.52|        136.49|            71.52|           136.49|18.757277138145376|\n",
      "|    3|          69.4|        153.03|             69.4|           153.03| 22.33477646774439|\n",
      "|    4|         68.22|        142.34|            68.22|           142.34| 21.49945764296016|\n",
      "|    5|         67.79|        144.30|            67.79|            144.3| 22.07288172769739|\n",
      "|    6|          68.7|        123.30|             68.7|            123.3| 18.36426602913339|\n",
      "|    7|          69.8|        141.49|             69.8|           141.49|20.414505961266148|\n",
      "|    8|         70.01|        136.46|            70.01|           136.46|19.570827300439834|\n",
      "|    9|          67.9|        112.37|             67.9|           112.37| 17.13305485063615|\n",
      "|   10|         66.78|        120.67|            66.78|           120.67|19.020873455615206|\n",
      "|   11|         66.49|        127.45|            66.49|           127.45|20.265211789195213|\n",
      "|   12|         67.62|        114.14|            67.62|           114.14|17.547348775298627|\n",
      "|   13|          68.3|        125.61|             68.3|           125.61|18.928089516896573|\n",
      "|   14|         67.12|        122.46|            67.12|           122.46| 19.10796039337369|\n",
      "|   15|         68.28|        116.09|            68.28|           116.09| 17.50377649765362|\n",
      "|   16|         71.09|        140.00|            71.09|            140.0| 19.47309489261904|\n",
      "|   17|         66.46|        129.50|            66.46|            129.5| 20.60976631279557|\n",
      "|   18|         68.65|        142.97|            68.65|           142.97| 21.32493946378168|\n",
      "|   19|         71.23|        137.90|            71.23|            137.9|19.105673442797986|\n",
      "|   20|         67.13|        124.04|            67.13|           124.04| 19.34872874427714|\n",
      "+-----+--------------+--------------+-----------------+-----------------+------------------+\n",
      "only showing top 20 rows\n",
      "\n"
     ]
    }
   ],
   "source": [
    "# Add a new column 'BMI' (Body Mass Index) using the formula: BMI = weight (kg) / (height (m))^2.\n",
    "df_with_bmi = df_.withColumn(\"BMI\", bmiCalculate(df_[\"interpretedWeight\"], df_[\"interpretedHeight\"]))\n",
    "df_with_bmi.show()"
   ]
  },
  {
   "cell_type": "code",
   "execution_count": 37,
   "metadata": {},
   "outputs": [],
   "source": [
    "# Save the transformed DataFrame as a Parquet file for efficient storage.\n",
    "df_with_bmi.write.parquet(\"hw_200_parquet\")"
   ]
  },
  {
   "cell_type": "code",
   "execution_count": 38,
   "metadata": {},
   "outputs": [
    {
     "name": "stdout",
     "output_type": "stream",
     "text": [
      "+-----+--------------+--------------+-----------------+-----------------+------------------+\n",
      "|Index|Height(Inches)|Weight(Pounds)|interpretedHeight|interpretedWeight|               BMI|\n",
      "+-----+--------------+--------------+-----------------+-----------------+------------------+\n",
      "|    1|         65.78|        112.99|            65.78|           112.99|18.355923679274014|\n",
      "|    2|         71.52|        136.49|            71.52|           136.49|18.757277138145376|\n",
      "|    3|          69.4|        153.03|             69.4|           153.03| 22.33477646774439|\n",
      "|    4|         68.22|        142.34|            68.22|           142.34| 21.49945764296016|\n",
      "|    5|         67.79|        144.30|            67.79|            144.3| 22.07288172769739|\n",
      "|    6|          68.7|        123.30|             68.7|            123.3| 18.36426602913339|\n",
      "|    7|          69.8|        141.49|             69.8|           141.49|20.414505961266148|\n",
      "|    8|         70.01|        136.46|            70.01|           136.46|19.570827300439834|\n",
      "|    9|          67.9|        112.37|             67.9|           112.37| 17.13305485063615|\n",
      "|   10|         66.78|        120.67|            66.78|           120.67|19.020873455615206|\n",
      "|   11|         66.49|        127.45|            66.49|           127.45|20.265211789195213|\n",
      "|   12|         67.62|        114.14|            67.62|           114.14|17.547348775298627|\n",
      "|   13|          68.3|        125.61|             68.3|           125.61|18.928089516896573|\n",
      "|   14|         67.12|        122.46|            67.12|           122.46| 19.10796039337369|\n",
      "|   15|         68.28|        116.09|            68.28|           116.09| 17.50377649765362|\n",
      "|   16|         71.09|        140.00|            71.09|            140.0| 19.47309489261904|\n",
      "|   17|         66.46|        129.50|            66.46|            129.5| 20.60976631279557|\n",
      "|   18|         68.65|        142.97|            68.65|           142.97| 21.32493946378168|\n",
      "|   19|         71.23|        137.90|            71.23|            137.9|19.105673442797986|\n",
      "|   20|         67.13|        124.04|            67.13|           124.04| 19.34872874427714|\n",
      "+-----+--------------+--------------+-----------------+-----------------+------------------+\n",
      "only showing top 20 rows\n",
      "\n"
     ]
    }
   ],
   "source": [
    "# Testing whether file saved correctly \n",
    "test_parquet = spark.read.parquet(\"hw_200_parquet\")\n",
    "test_parquet.show()"
   ]
  }
 ],
 "metadata": {
  "kernelspec": {
   "display_name": "venv",
   "language": "python",
   "name": "python3"
  },
  "language_info": {
   "codemirror_mode": {
    "name": "ipython",
    "version": 3
   },
   "file_extension": ".py",
   "mimetype": "text/x-python",
   "name": "python",
   "nbconvert_exporter": "python",
   "pygments_lexer": "ipython3",
   "version": "3.10.12"
  }
 },
 "nbformat": 4,
 "nbformat_minor": 2
}
