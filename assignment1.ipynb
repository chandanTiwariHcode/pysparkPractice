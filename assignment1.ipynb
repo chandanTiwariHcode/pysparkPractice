{
 "cells": [
  {
   "cell_type": "code",
   "execution_count": 1,
   "metadata": {},
   "outputs": [
    {
     "name": "stderr",
     "output_type": "stream",
     "text": [
      "24/11/12 17:47:00 WARN Utils: Your hostname, hcode-ThinkPad-E14-Gen-3 resolves to a loopback address: 127.0.1.1; using 192.168.1.41 instead (on interface wlp3s0)\n",
      "24/11/12 17:47:00 WARN Utils: Set SPARK_LOCAL_IP if you need to bind to another address\n",
      "Setting default log level to \"WARN\".\n",
      "To adjust logging level use sc.setLogLevel(newLevel). For SparkR, use setLogLevel(newLevel).\n",
      "24/11/12 17:47:00 WARN NativeCodeLoader: Unable to load native-hadoop library for your platform... using builtin-java classes where applicable\n"
     ]
    }
   ],
   "source": [
    "from pyspark.sql import SparkSession\n",
    "spark = SparkSession.builder.getOrCreate()"
   ]
  },
  {
   "cell_type": "code",
   "execution_count": 2,
   "metadata": {},
   "outputs": [],
   "source": [
    "df = spark.read.csv(\"hw_200.csv\", inferSchema = True, header = True)"
   ]
  },
  {
   "cell_type": "code",
   "execution_count": 3,
   "metadata": {},
   "outputs": [
    {
     "name": "stdout",
     "output_type": "stream",
     "text": [
      "root\n",
      " |-- Index: integer (nullable = true)\n",
      " |--  Height(Inches)\": double (nullable = true)\n",
      " |--  \"Weight(Pounds)\": double (nullable = true)\n",
      "\n"
     ]
    }
   ],
   "source": [
    "# Read the CSV file into a PySpark DataFrame and display its schema.\n",
    "df.printSchema()"
   ]
  },
  {
   "cell_type": "code",
   "execution_count": 4,
   "metadata": {},
   "outputs": [
    {
     "name": "stdout",
     "output_type": "stream",
     "text": [
      "+----------+---------------------+----------------------+\n",
      "|avg(Index)|avg( Height(Inches)\")|avg( \"Weight(Pounds)\")|\n",
      "+----------+---------------------+----------------------+\n",
      "|     100.5|    67.94979999999998|     127.2219500000001|\n",
      "+----------+---------------------+----------------------+\n",
      "\n"
     ]
    }
   ],
   "source": [
    "df.groupBy().avg().show()"
   ]
  },
  {
   "cell_type": "code",
   "execution_count": 5,
   "metadata": {},
   "outputs": [
    {
     "name": "stdout",
     "output_type": "stream",
     "text": [
      "avg height : 67.94979999999998\n",
      "avg_weight : 127.2219500000001\n"
     ]
    }
   ],
   "source": [
    "# Explore the data: Calculate basic statistics like average height and weight.\n",
    "avg_height, avg_weight = df.select(df.columns[1:]).groupBy().avg().collect()[0]\n",
    "print(f'''avg height : {avg_height}\n",
    "avg_weight : {avg_weight}''')"
   ]
  },
  {
   "cell_type": "code",
   "execution_count": 6,
   "metadata": {},
   "outputs": [
    {
     "name": "stdout",
     "output_type": "stream",
     "text": [
      "+-----+----------------+-----------------+\n",
      "|Index| Height(Inches)\"| \"Weight(Pounds)\"|\n",
      "+-----+----------------+-----------------+\n",
      "|    2|           71.52|           136.49|\n",
      "|    3|            69.4|           153.03|\n",
      "|    4|           68.22|           142.34|\n",
      "|    5|           67.79|            144.3|\n",
      "|    7|            69.8|           141.49|\n",
      "|    8|           70.01|           136.46|\n",
      "|   11|           66.49|           127.45|\n",
      "|   16|           71.09|            140.0|\n",
      "|   17|           66.46|            129.5|\n",
      "|   18|           68.65|           142.97|\n",
      "|   19|           71.23|            137.9|\n",
      "|   21|           67.83|           141.28|\n",
      "|   22|           68.88|           143.54|\n",
      "|   24|           68.42|            129.5|\n",
      "|   25|           67.63|           141.85|\n",
      "|   26|           67.21|           129.72|\n",
      "|   27|           70.84|           142.42|\n",
      "|   28|           67.49|           131.55|\n",
      "|   34|            70.6|           136.22|\n",
      "|   35|            71.8|            140.1|\n",
      "+-----+----------------+-----------------+\n",
      "only showing top 20 rows\n",
      "\n"
     ]
    }
   ],
   "source": [
    "# Filter the DataFrame to include only rows where the weight is above the average weight.\n",
    "df[df[\" \\\"Weight(Pounds)\\\"\"] > avg_weight].show()"
   ]
  },
  {
   "cell_type": "code",
   "execution_count": 7,
   "metadata": {},
   "outputs": [
    {
     "name": "stdout",
     "output_type": "stream",
     "text": [
      "+-----+----------------+-----------------+------------------+\n",
      "|Index| Height(Inches)\"| \"Weight(Pounds)\"|               BMI|\n",
      "+-----+----------------+-----------------+------------------+\n",
      "|    1|           65.78|           112.99| 2.950477308987891|\n",
      "|    2|           71.52|           136.49| 3.642056308305683|\n",
      "|    3|            69.4|           153.03| 4.862215635874393|\n",
      "|    4|           68.22|           142.34| 4.353419245390666|\n",
      "|    5|           67.79|            144.3|  4.53107649746846|\n",
      "|    6|            68.7|            123.3| 3.221162830609637|\n",
      "|    7|            69.8|           141.49| 4.109042639222996|\n",
      "|    8|           70.01|           136.46| 3.799186195797401|\n",
      "|    9|            67.9|           112.37|2.7388056376764753|\n",
      "|   10|           66.78|           120.67|3.2651699881988576|\n",
      "|   11|           66.49|           127.45| 3.674235709439762|\n",
      "|   12|           67.62|           114.14|2.8492161907263833|\n",
      "|   13|            68.3|           125.61|3.3822602676590448|\n",
      "|   14|           67.12|           122.46| 3.328776329303998|\n",
      "|   15|           68.28|           116.09|2.8906971715075147|\n",
      "|   16|           71.09|            140.0| 3.878278948814652|\n",
      "|   17|           66.46|            129.5| 3.796809984560323|\n",
      "|   18|           68.65|           142.97| 4.337193030291296|\n",
      "|   19|           71.23|            137.9| 3.748026420651432|\n",
      "|   20|           67.13|           124.04|  3.41420992713778|\n",
      "+-----+----------------+-----------------+------------------+\n",
      "only showing top 20 rows\n",
      "\n"
     ]
    }
   ],
   "source": [
    "# Add a new column 'BMI' (Body Mass Index) using the formula: BMI = weight (kg) / (height (m))^2.\n",
    "df_with_bmi = df.withColumn(\"BMI\", (df[\" \\\"Weight(Pounds)\\\"\"] / df[\" Height(Inches)\\\"\"]) ** 2)\n",
    "df_with_bmi.show()"
   ]
  },
  {
   "cell_type": "code",
   "execution_count": 9,
   "metadata": {},
   "outputs": [],
   "source": [
    "# Save the transformed DataFrame as a Parquet file for efficient storage.\n",
    "df_with_bmi.write.parquet(\"hw_200.parquet\")"
   ]
  },
  {
   "cell_type": "code",
   "execution_count": 10,
   "metadata": {},
   "outputs": [
    {
     "name": "stdout",
     "output_type": "stream",
     "text": [
      "+-----+----------------+-----------------+------------------+\n",
      "|Index| Height(Inches)\"| \"Weight(Pounds)\"|               BMI|\n",
      "+-----+----------------+-----------------+------------------+\n",
      "|    1|           65.78|           112.99| 2.950477308987891|\n",
      "|    2|           71.52|           136.49| 3.642056308305683|\n",
      "|    3|            69.4|           153.03| 4.862215635874393|\n",
      "|    4|           68.22|           142.34| 4.353419245390666|\n",
      "|    5|           67.79|            144.3|  4.53107649746846|\n",
      "|    6|            68.7|            123.3| 3.221162830609637|\n",
      "|    7|            69.8|           141.49| 4.109042639222996|\n",
      "|    8|           70.01|           136.46| 3.799186195797401|\n",
      "|    9|            67.9|           112.37|2.7388056376764753|\n",
      "|   10|           66.78|           120.67|3.2651699881988576|\n",
      "|   11|           66.49|           127.45| 3.674235709439762|\n",
      "|   12|           67.62|           114.14|2.8492161907263833|\n",
      "|   13|            68.3|           125.61|3.3822602676590448|\n",
      "|   14|           67.12|           122.46| 3.328776329303998|\n",
      "|   15|           68.28|           116.09|2.8906971715075147|\n",
      "|   16|           71.09|            140.0| 3.878278948814652|\n",
      "|   17|           66.46|            129.5| 3.796809984560323|\n",
      "|   18|           68.65|           142.97| 4.337193030291296|\n",
      "|   19|           71.23|            137.9| 3.748026420651432|\n",
      "|   20|           67.13|           124.04|  3.41420992713778|\n",
      "+-----+----------------+-----------------+------------------+\n",
      "only showing top 20 rows\n",
      "\n"
     ]
    }
   ],
   "source": [
    "# Testing whether file saved correctly \n",
    "test_parquet = spark.read.parquet(\"hw_200.parquet\")\n",
    "test_parquet.show()"
   ]
  }
 ],
 "metadata": {
  "kernelspec": {
   "display_name": "venv",
   "language": "python",
   "name": "python3"
  },
  "language_info": {
   "codemirror_mode": {
    "name": "ipython",
    "version": 3
   },
   "file_extension": ".py",
   "mimetype": "text/x-python",
   "name": "python",
   "nbconvert_exporter": "python",
   "pygments_lexer": "ipython3",
   "version": "3.10.12"
  }
 },
 "nbformat": 4,
 "nbformat_minor": 2
}
