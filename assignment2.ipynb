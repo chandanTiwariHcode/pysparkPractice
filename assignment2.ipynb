{
 "cells": [
  {
   "cell_type": "code",
   "execution_count": 1,
   "metadata": {},
   "outputs": [],
   "source": [
    "import requests\n",
    "from json import dump\n",
    "\n",
    "response = requests.get(\"https://jsonplaceholder.typicode.com/users\").json()\n",
    "with open(\"apiData.json\", \"w+\") as f:\n",
    "    dump(response, f)"
   ]
  },
  {
   "cell_type": "code",
   "execution_count": 2,
   "metadata": {},
   "outputs": [
    {
     "name": "stderr",
     "output_type": "stream",
     "text": [
      "24/11/13 10:35:56 WARN Utils: Your hostname, hcode-ThinkPad-E14-Gen-3 resolves to a loopback address: 127.0.1.1; using 192.168.1.41 instead (on interface wlp3s0)\n",
      "24/11/13 10:35:56 WARN Utils: Set SPARK_LOCAL_IP if you need to bind to another address\n",
      "Setting default log level to \"WARN\".\n",
      "To adjust logging level use sc.setLogLevel(newLevel). For SparkR, use setLogLevel(newLevel).\n",
      "24/11/13 10:35:56 WARN NativeCodeLoader: Unable to load native-hadoop library for your platform... using builtin-java classes where applicable\n"
     ]
    }
   ],
   "source": [
    "from pyspark.sql import SparkSession\n",
    "spark = SparkSession.builder.getOrCreate()"
   ]
  },
  {
   "cell_type": "code",
   "execution_count": 3,
   "metadata": {},
   "outputs": [],
   "source": [
    "df = spark.read.json(\"apiData.json\")"
   ]
  },
  {
   "cell_type": "code",
   "execution_count": 4,
   "metadata": {},
   "outputs": [
    {
     "name": "stdout",
     "output_type": "stream",
     "text": [
      "root\n",
      " |-- address: struct (nullable = true)\n",
      " |    |-- city: string (nullable = true)\n",
      " |    |-- geo: struct (nullable = true)\n",
      " |    |    |-- lat: string (nullable = true)\n",
      " |    |    |-- lng: string (nullable = true)\n",
      " |    |-- street: string (nullable = true)\n",
      " |    |-- suite: string (nullable = true)\n",
      " |    |-- zipcode: string (nullable = true)\n",
      " |-- company: struct (nullable = true)\n",
      " |    |-- bs: string (nullable = true)\n",
      " |    |-- catchPhrase: string (nullable = true)\n",
      " |    |-- name: string (nullable = true)\n",
      " |-- email: string (nullable = true)\n",
      " |-- id: long (nullable = true)\n",
      " |-- name: string (nullable = true)\n",
      " |-- phone: string (nullable = true)\n",
      " |-- username: string (nullable = true)\n",
      " |-- website: string (nullable = true)\n",
      "\n"
     ]
    }
   ],
   "source": [
    "df.printSchema()"
   ]
  },
  {
   "cell_type": "code",
   "execution_count": 5,
   "metadata": {},
   "outputs": [
    {
     "name": "stdout",
     "output_type": "stream",
     "text": [
      "root\n",
      " |-- address: struct (nullable = false)\n",
      " |    |-- street: string (nullable = true)\n",
      " |    |-- suite: string (nullable = true)\n",
      " |    |-- zipcode: string (nullable = true)\n",
      " |    |-- geo: struct (nullable = false)\n",
      " |    |    |-- lng: string (nullable = true)\n",
      " |-- company: struct (nullable = false)\n",
      " |    |-- bs: string (nullable = true)\n",
      " |    |-- catchPhrase: string (nullable = true)\n",
      " |-- email: string (nullable = true)\n",
      " |-- id: long (nullable = true)\n",
      " |-- name: string (nullable = true)\n",
      " |-- phone: string (nullable = true)\n",
      " |-- username: string (nullable = true)\n",
      " |-- website: string (nullable = true)\n",
      " |-- cityName: string (nullable = true)\n",
      " |-- companyName: string (nullable = true)\n",
      " |-- latitude: string (nullable = true)\n",
      "\n"
     ]
    }
   ],
   "source": [
    "# Extract nested fields such as 'address.city', 'company.name', and 'geo.lat' into separate columns.\n",
    "from pyspark.sql.functions import col, struct\n",
    "\n",
    "df = df.select(\n",
    "    *df.columns,\n",
    "    col(\"address.city\").alias(\"cityName\"),\n",
    "    col(\"company.name\").alias(\"companyName\"),\n",
    "    col(\"address.geo.lat\").alias(\"latitude\"),\n",
    ").withColumn(\n",
    "    \"address\", struct(\n",
    "        col(\"address.street\"),\n",
    "        col(\"address.suite\"),\n",
    "        col(\"address.zipcode\"),\n",
    "        struct(\n",
    "            col(\"address.geo.lng\")\n",
    "        ).alias(\"geo\")\n",
    "    )\n",
    ").withColumn(\n",
    "    \"company\", struct(\n",
    "        col(\"company.bs\"),\n",
    "        col(\"company.catchPhrase\"),\n",
    "    )\n",
    ")\n",
    "\n",
    "df.printSchema()"
   ]
  },
  {
   "cell_type": "code",
   "execution_count": 6,
   "metadata": {},
   "outputs": [
    {
     "name": "stdout",
     "output_type": "stream",
     "text": [
      "+--------------------+--------------------+-----------------+---+-------------+--------------------+--------+-------------+-----------+---------------+--------+\n",
      "|             address|             company|            email| id|         name|               phone|username|      website|   cityName|    companyName|latitude|\n",
      "+--------------------+--------------------+-----------------+---+-------------+--------------------+--------+-------------+-----------+---------------+--------+\n",
      "|{Kulas Light, Apt...|{harness real-tim...|Sincere@april.biz|  1|Leanne Graham|1-770-736-8031 x5...|    Bret|hildegard.org|Gwenborough|Romaguera-Crona|-37.3159|\n",
      "+--------------------+--------------------+-----------------+---+-------------+--------------------+--------+-------------+-----------+---------------+--------+\n",
      "\n"
     ]
    }
   ],
   "source": [
    "df_ = df.filter(condition=df[\"companyName\"].contains(\"Crona\")).show() # case insensitive "
   ]
  },
  {
   "cell_type": "code",
   "execution_count": 7,
   "metadata": {},
   "outputs": [
    {
     "name": "stdout",
     "output_type": "stream",
     "text": [
      "+--------------+-----+\n",
      "|      cityName|count|\n",
      "+--------------+-----+\n",
      "|Bartholomebury|    1|\n",
      "|   Gwenborough|    1|\n",
      "|   South Elvis|    1|\n",
      "|     Aliyaview|    1|\n",
      "|   Wisokyburgh|    1|\n",
      "| McKenziehaven|    1|\n",
      "|    Roscoeview|    1|\n",
      "|   Lebsackbury|    1|\n",
      "| South Christy|    1|\n",
      "|     Howemouth|    1|\n",
      "+--------------+-----+\n",
      "\n"
     ]
    }
   ],
   "source": [
    "df.groupBy(\"cityName\").count().show()"
   ]
  },
  {
   "cell_type": "code",
   "execution_count": 11,
   "metadata": {},
   "outputs": [],
   "source": [
    "with open(\"modifiedApiData2.json\", \"w+\") as f:\n",
    "    dump(df.toJSON().collect(), f, indent=2)\n"
   ]
  },
  {
   "cell_type": "code",
   "execution_count": null,
   "metadata": {},
   "outputs": [],
   "source": [
    "from json import dump, loads\n",
    "\n",
    "data = df.toJSON().collect()\n",
    "data = map(lambda x:loads(x), data)\n",
    "\n",
    "with open(\"modifiedApiData.json\", \"w+\") as f:\n",
    "    dump(list(data), f)"
   ]
  },
  {
   "cell_type": "code",
   "execution_count": 9,
   "metadata": {},
   "outputs": [
    {
     "name": "stdout",
     "output_type": "stream",
     "text": [
      "+------------------------------------------------------+--------------+--------------------------------------------------------------------------------+------------------+-------------------------+---+--------+------------------------+---------------------+----------------+-------------+\n",
      "|address                                               |cityName      |company                                                                         |companyName       |email                    |id |latitude|name                    |phone                |username        |website      |\n",
      "+------------------------------------------------------+--------------+--------------------------------------------------------------------------------+------------------+-------------------------+---+--------+------------------------+---------------------+----------------+-------------+\n",
      "|{{81.1496}, Kulas Light, Apt. 556, 92998-3874}        |Gwenborough   |{harness real-time e-markets, Multi-layered client-server neural-net}           |Romaguera-Crona   |Sincere@april.biz        |1  |-37.3159|Leanne Graham           |1-770-736-8031 x56442|Bret            |hildegard.org|\n",
      "|{{-34.4618}, Victor Plains, Suite 879, 90566-7771}    |Wisokyburgh   |{synergize scalable supply-chains, Proactive didactic contingency}              |Deckow-Crist      |Shanna@melissa.tv        |2  |-43.9509|Ervin Howell            |010-692-6593 x09125  |Antonette       |anastasia.net|\n",
      "|{{-47.0653}, Douglas Extension, Suite 847, 59590-4157}|McKenziehaven |{e-enable strategic applications, Face to face bifurcated interface}            |Romaguera-Jacobson|Nathan@yesenia.net       |3  |-68.6102|Clementine Bauch        |1-463-123-4447       |Samantha        |ramiro.info  |\n",
      "|{{-164.2990}, Hoeger Mall, Apt. 692, 53919-4257}      |South Elvis   |{transition cutting-edge web services, Multi-tiered zero tolerance productivity}|Robel-Corkery     |Julianne.OConner@kory.org|4  |29.4572 |Patricia Lebsack        |493-170-9623 x156    |Karianne        |kale.biz     |\n",
      "|{{62.5342}, Skiles Walks, Suite 351, 33263}           |Roscoeview    |{revolutionize end-to-end systems, User-centric fault-tolerant solution}        |Keebler LLC       |Lucio_Hettinger@annie.ca |5  |-31.8129|Chelsey Dietrich        |(254)954-1289        |Kamren          |demarco.info |\n",
      "|{{71.7478}, Norberto Crossing, Apt. 950, 23505-1337}  |South Christy |{e-enable innovative applications, Synchronised bottom-line interface}          |Considine-Lockman |Karley_Dach@jasper.info  |6  |-71.4197|Mrs. Dennis Schulist    |1-477-935-8478 x6430 |Leopoldo_Corkery|ola.org      |\n",
      "|{{21.8984}, Rex Trail, Suite 280, 58804-1099}         |Howemouth     |{generate enterprise e-tailers, Configurable multimedia task-force}             |Johns Group       |Telly.Hoeger@billy.biz   |7  |24.8918 |Kurtis Weissnat         |210.067.6132         |Elwyn.Skiles    |elvis.io     |\n",
      "|{{-120.7677}, Ellsworth Summit, Suite 729, 45169}     |Aliyaview     |{e-enable extensible e-tailers, Implemented secondary concept}                  |Abernathy Group   |Sherwood@rosamond.me     |8  |-14.3990|Nicholas Runolfsdottir V|586.493.6943 x140    |Maxime_Nienow   |jacynthe.com |\n",
      "|{{-168.8889}, Dayna Park, Suite 449, 76495-3109}      |Bartholomebury|{aggregate real-time technologies, Switchable contextually-based project}       |Yost and Sons     |Chaim_McDermott@dana.io  |9  |24.6463 |Glenna Reichert         |(775)976-6794 x41206 |Delphine        |conrad.com   |\n",
      "|{{57.2232}, Kattie Turnpike, Suite 198, 31428-2261}   |Lebsackbury   |{target end-to-end models, Centralized empowering task-force}                   |Hoeger LLC        |Rey.Padberg@karina.biz   |10 |-38.2386|Clementina DuBuque      |024-648-3804         |Moriah.Stanton  |ambrose.net  |\n",
      "+------------------------------------------------------+--------------+--------------------------------------------------------------------------------+------------------+-------------------------+---+--------+------------------------+---------------------+----------------+-------------+\n",
      "\n"
     ]
    }
   ],
   "source": [
    "test_json = spark.read.json(\"modifiedApiData.json\")\n",
    "test_json.show(truncate=False)"
   ]
  }
 ],
 "metadata": {
  "kernelspec": {
   "display_name": "venv",
   "language": "python",
   "name": "python3"
  },
  "language_info": {
   "codemirror_mode": {
    "name": "ipython",
    "version": 3
   },
   "file_extension": ".py",
   "mimetype": "text/x-python",
   "name": "python",
   "nbconvert_exporter": "python",
   "pygments_lexer": "ipython3",
   "version": "3.10.12"
  }
 },
 "nbformat": 4,
 "nbformat_minor": 2
}
